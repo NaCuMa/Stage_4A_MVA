{
 "cells": [
  {
   "cell_type": "code",
   "execution_count": 1,
   "id": "865c30c9",
   "metadata": {},
   "outputs": [],
   "source": [
    "from scipy.special import jv, gamma\n",
    "from scipy import integrate\n",
    "import numpy as np\n",
    "import matplotlib as mpl\n",
    "mpl.use('agg')\n",
    "import matplotlib.pyplot as plt\n",
    "plt.style.use('ggplot')"
   ]
  },
  {
   "cell_type": "markdown",
   "id": "21ec1dc4",
   "metadata": {},
   "source": [
    "## Génération des données pour différents d\n",
    "\n",
    "Le code ci-dessous est directement tirés de Sun et al. (2018), https://github.com/syitong/randrelu (sous licence MIT)."
   ]
  },
  {
   "cell_type": "code",
   "execution_count": 2,
   "id": "c8760975",
   "metadata": {},
   "outputs": [],
   "source": [
    "class bump:\n",
    "    # Create an array of the smooth bump function\n",
    "    def __init__(self, a, min_gap):\n",
    "        self.a = a\n",
    "        self.min_gap = min_gap\n",
    "        if a < min_gap:\n",
    "            print(\"width parameter a cannot be smaller than the resolution.\")\n",
    "            return 0\n",
    "        x = np.arange(-a,a,min_gap)\n",
    "        y = 1/a * np.exp(-1 / (1+10**(-10) - (x/a)**2))\n",
    "        normalizer = np.sum(y) * min_gap\n",
    "        self.value = y / normalizer\n",
    "def mollify(idx_list, g, mol):\n",
    "    # Mollify a function via bump function\n",
    "    y_list = []\n",
    "    a = int(mol.a / mol.min_gap)\n",
    "    for idx in idx_list:\n",
    "        left = max(idx-a,0)\n",
    "        right = min(idx+a,len(g))\n",
    "        y = np.sum(g[left:right] * mol.value[a+left-idx:a+right-idx]) * mol.min_gap\n",
    "        y_list += [y]\n",
    "    return np.array(y_list)\n",
    "\n",
    "def eldan(N_const=0.1, NSUPP=10000, mol_const=100, c_const=80, seed=0, d=4):\n",
    "    np.random.seed(seed)\n",
    "    R = lambda dim: gamma(dim/2+1)**(1/dim)/np.sqrt(np.pi)\n",
    "    S = lambda dim: 2*gamma(0.5)**(dim+1)/gamma((dim+1)/2)\n",
    "    # Radial density function\n",
    "    pr = lambda x: jv(d/2,2*np.pi*R(d)*x)**2*(R(d))**d*S(d-1)/x\n",
    "\n",
    "    # According to Lemma 23 of Eldan and Shamir's 2016 paper to setup parameters\n",
    "    alpha = np.ceil(127*5/2/np.pi/d)\n",
    "    # We can reduce N to obtain a less hard-to-learn target function\n",
    "    N = np.ceil(N_const * alpha**(3/2)*d**2)\n",
    "\n",
    "    # The support of target function is in [dom_scale, 2*dom_scale] in the\n",
    "    # paper\n",
    "    dom_scale = alpha * np.sqrt(d)\n",
    "\n",
    "    # Set the minimum gap in radius population for sampling according to pr.\n",
    "    # It guarantees that every piece of target function, g_i, is supported by\n",
    "    # NSUPP points in the population.\n",
    "    LBD = 0.2 * dom_scale\n",
    "    RBD = 0.3 * dom_scale\n",
    "    MINGAP = (RBD - LBD) / N / NSUPP\n",
    "    R_grid = np.arange(LBD, RBD, MINGAP)\n",
    "    offset = int(LBD / MINGAP)\n",
    "\n",
    "    # Sample 1/10 of the population of R according to pr\n",
    "    sample_size = int(len(R_grid) / 10)\n",
    "    p = pr(R_grid)\n",
    "    p = p / np.sum(p)\n",
    "    idx_sample = np.random.choice(len(R_grid),size=sample_size,p=p)\n",
    "    R_sample = R_grid[idx_sample]\n",
    "\n",
    "    # Generate the uniform direction samples\n",
    "    A_sample = np.random.randn(sample_size,d)\n",
    "    A_sample = A_sample / np.linalg.norm(A_sample, axis=1, keepdims=True)\n",
    "\n",
    "    # Construct smooth and non-smooth target functions\n",
    "    jr = lambda x: jv(d/2,2*np.pi*R(d)*x)**2\n",
    "\n",
    "    idx = 0\n",
    "    g = []\n",
    "    l_cut = []\n",
    "    r_cut = []\n",
    "    while idx < len(R_grid):\n",
    "        if idx + offset < LBD / MINGAP:\n",
    "            g.append(0.)\n",
    "            idx += 1\n",
    "        else:\n",
    "            if idx + offset >= RBD / MINGAP:\n",
    "                g.append(0.)\n",
    "                idx += 1\n",
    "            else:\n",
    "                # In the paper the constant on the denominator is chosen to be\n",
    "                # 80. It is related to the support of the target function.\n",
    "                # Here we adjust it according to LBD.\n",
    "                criteria = (jr(R_grid[idx:idx + NSUPP]) * R_grid[idx:idx + NSUPP]\n",
    "                            > 1 / (c_const * np.pi * R(d)))\n",
    "                if criteria.all():\n",
    "                    l_cut.append(idx)\n",
    "                    g.extend(np.ones(min(NSUPP,len(R_grid)-idx)))\n",
    "                else:\n",
    "                    g.extend(np.zeros(min(NSUPP,len(R_grid)-idx)))\n",
    "                idx += NSUPP\n",
    "    g = np.array(g)\n",
    "    assert len(g) == len(R_grid)\n",
    "\n",
    "    epsilon = np.random.choice([-1,1],len(l_cut))\n",
    "    for idx, cut in enumerate(l_cut):\n",
    "        g[cut:min(cut+NSUPP,len(g))] *= epsilon[idx]\n",
    "\n",
    "    yg = g[idx_sample]\n",
    "    x_sample = A_sample * np.repeat(R_sample.reshape(-1,1), d, axis=1)\n",
    "\n",
    "    # Smooth the value of g using smooth bump function (1/a)exp(-1/(1-(x/a)^2)\n",
    "    mol = bump(mol_const * MINGAP, MINGAP)\n",
    "    y_mol = mollify(idx_sample, g, mol)\n",
    "\n",
    "    print(\"Les données sont de taille : \", x_sample.shape)\n",
    "    # Save dataset\n",
    "    with open('data/eldan-smooth-train-'+str(d)+'-data.npy','bw') as f:\n",
    "        np.save(f, x_sample[:int(0.8*len(x_sample))])\n",
    "    with open('data/eldan-smooth-train-'+str(d)+'-label.npy', 'bw') as f:\n",
    "        np.save(f, y_mol[:int(0.8*len(x_sample))])\n",
    "    with open('data/eldan-smooth-test-'+str(d)+'-data.npy', 'bw') as f:\n",
    "        np.save(f, x_sample[int(0.8*len(x_sample)):])\n",
    "    with open('data/eldan-smooth-test-'+str(d)+'-label.npy', 'bw') as f:\n",
    "        np.save(f, y_mol[int(0.8*len(x_sample)):])"
   ]
  },
  {
   "cell_type": "markdown",
   "id": "e3164646",
   "metadata": {},
   "source": [
    "Génération pour $d \\in \\left\\{2, 5, 10, 20 \\right\\}$ :"
   ]
  },
  {
   "cell_type": "code",
   "execution_count": 3,
   "id": "512a8e92",
   "metadata": {},
   "outputs": [
    {
     "name": "stdout",
     "output_type": "stream",
     "text": [
      "Les données sont de taille :  (150000, 2)\n",
      "Les données sont de taille :  (250000, 5)\n",
      "Les données sont de taille :  (370000, 10)\n",
      "Les données sont de taille :  (590000, 20)\n"
     ]
    }
   ],
   "source": [
    "for dimension in [2, 5, 10, 20]:\n",
    "    eldan(N_const=0.01, NSUPP=100000, mol_const=100, d=dimension)"
   ]
  },
  {
   "cell_type": "code",
   "execution_count": null,
   "id": "45ac25c2",
   "metadata": {},
   "outputs": [],
   "source": []
  }
 ],
 "metadata": {
  "kernelspec": {
   "display_name": "Python 3 (ipykernel)",
   "language": "python",
   "name": "python3"
  },
  "language_info": {
   "codemirror_mode": {
    "name": "ipython",
    "version": 3
   },
   "file_extension": ".py",
   "mimetype": "text/x-python",
   "name": "python",
   "nbconvert_exporter": "python",
   "pygments_lexer": "ipython3",
   "version": "3.8.16"
  }
 },
 "nbformat": 4,
 "nbformat_minor": 5
}
